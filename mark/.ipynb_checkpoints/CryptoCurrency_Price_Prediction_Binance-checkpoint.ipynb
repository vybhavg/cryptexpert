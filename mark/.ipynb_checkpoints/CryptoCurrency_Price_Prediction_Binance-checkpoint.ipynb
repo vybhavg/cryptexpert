{
 "cells": [
  {
   "cell_type": "code",
   "execution_count": null,
   "id": "028d1692",
   "metadata": {},
   "outputs": [],
   "source": [
    "from binance.client import Client\n",
    "import pandas as pd\n",
    "import numpy as np\n",
    "import matplotlib.pyplot as plt\n",
    "from datetime import datetime\n",
    "plt.style.use('fivethirtyeight')"
   ]
  },
  {
   "cell_type": "code",
   "execution_count": null,
   "id": "07839772",
   "metadata": {},
   "outputs": [],
   "source": [
    "from binance.client import Client\n",
    "\n",
    "# Initialize Binance Client (No API Key Required for Public Data)\n",
    "client = Client()\n",
    "\n",
    "# Fetch historical data\n",
    "klines = client.get_klines(symbol=\"BTCUSDT\", interval=Client.KLINE_INTERVAL_1DAY, limit=1000)\n",
    "\n",
    "# Convert to DataFrame\n",
    "stock_data = pd.DataFrame(klines, columns=[\n",
    "    'Open Time', 'Open', 'High', 'Low', 'Close', 'Volume', 'Close Time',\n",
    "    'Quote Asset Volume', 'Number of Trades', 'Taker Buy Base Asset Volume',\n",
    "    'Taker Buy Quote Asset Volume', 'Ignore'\n",
    "])\n",
    "stock_data['Close'] = stock_data['Close'].astype(float)\n",
    "stock_data.index = pd.to_datetime(stock_data['Close Time'], unit='ms')\n"
   ]
  },
  {
   "cell_type": "code",
   "execution_count": null,
   "id": "7cca7106",
   "metadata": {},
   "outputs": [],
   "source": [
    "stock_data.head()"
   ]
  },
  {
   "cell_type": "code",
   "execution_count": null,
   "id": "904f0f03",
   "metadata": {},
   "outputs": [],
   "source": [
    "stock_data.tail()"
   ]
  },
  {
   "cell_type": "code",
   "execution_count": null,
   "id": "f3ba0b0c",
   "metadata": {},
   "outputs": [],
   "source": [
    "stock_data.describe().T"
   ]
  },
  {
   "cell_type": "code",
   "execution_count": null,
   "id": "86161b94",
   "metadata": {},
   "outputs": [],
   "source": [
    "stock_data.info()"
   ]
  },
  {
   "cell_type": "code",
   "execution_count": null,
   "id": "dd3fe5dc",
   "metadata": {},
   "outputs": [],
   "source": [
    "stock_data.columns"
   ]
  },
  {
   "cell_type": "code",
   "execution_count": null,
   "id": "45bfb3d7",
   "metadata": {},
   "outputs": [],
   "source": [
    "#Close price data\n",
    "closing_price = stock_data[['Close']]"
   ]
  },
  {
   "cell_type": "code",
   "execution_count": null,
   "id": "a0cefc7b",
   "metadata": {},
   "outputs": [],
   "source": [
    "closing_price['Close']"
   ]
  },
  {
   "cell_type": "code",
   "execution_count": null,
   "id": "59921da3",
   "metadata": {},
   "outputs": [],
   "source": [
    "#Plot closing price with enchacement\n",
    "plt.figure(figsize = (15, 6))\n",
    "plt.plot(closing_price.index, closing_price['Close'], label = 'Close Price', color = 'blue', linewidth =2)\n",
    "plt.title(\"Close price of bitcoin over time\", fontsize = 16)\n",
    "plt.xlabel(\"Years\", fontsize = 14)\n",
    "plt.ylabel('Close Price', fontsize = 14)\n",
    "plt.grid(alpha = 0.3)\n",
    "plt.legend(fontsize = 12)\n",
    "plt.show()"
   ]
  },
  {
   "cell_type": "code",
   "execution_count": null,
   "id": "07b9b2a0",
   "metadata": {},
   "outputs": [],
   "source": [
    "# Moving Average\n",
    "temp_data = [10, 20, 30, 40, 50, 60, 70, 80, 90, 100]\n",
    "# moving average for 5 day -> null null null null 30.0 40.0\n",
    "print(sum(temp_data[1:6])/5)"
   ]
  },
  {
   "cell_type": "code",
   "execution_count": null,
   "id": "d10aefa7",
   "metadata": {},
   "outputs": [],
   "source": [
    "df1 = pd.DataFrame(temp_data)"
   ]
  },
  {
   "cell_type": "code",
   "execution_count": null,
   "id": "eff65e74",
   "metadata": {},
   "outputs": [],
   "source": [
    "df1.rolling(5).mean()"
   ]
  },
  {
   "cell_type": "code",
   "execution_count": null,
   "id": "9042c11e",
   "metadata": {},
   "outputs": [],
   "source": [
    "for i in range(2014, 2024):\n",
    "    print(i, list(stock_data.index.year).count(i))"
   ]
  },
  {
   "cell_type": "code",
   "execution_count": null,
   "id": "69ce9153",
   "metadata": {},
   "outputs": [],
   "source": [
    "closing_price['MA_365'] = closing_price['Close'].rolling(window = 365).mean()\n",
    "closing_price['MA_100'] = closing_price['Close'].rolling(window = 100).mean()"
   ]
  },
  {
   "cell_type": "code",
   "execution_count": null,
   "id": "72f3c2a3",
   "metadata": {},
   "outputs": [],
   "source": [
    "#Plot closing price with enchacement\n",
    "plt.figure(figsize = (15, 6))\n",
    "plt.plot(closing_price.index, closing_price['Close'], label = 'Close Price', color = 'blue', linewidth =2)\n",
    "plt.plot(closing_price.index, closing_price['MA_365'], label = '365 Days Moving Average', color = 'red', linestyle =\"--\", linewidth =2)\n",
    "plt.plot(closing_price.index, closing_price['MA_100'], label = '100 Days Moving Average', color = 'green',linestyle =\"--\", linewidth =2)\n",
    "\n",
    "plt.title(\"Close price with moving average\", fontsize = 16)\n",
    "plt.xlabel(\"Years\", fontsize = 14)\n",
    "plt.ylabel('Price', fontsize = 14)\n",
    "plt.grid(alpha = 0.3)\n",
    "plt.legend(fontsize = 12)\n",
    "plt.show()"
   ]
  },
  {
   "cell_type": "code",
   "execution_count": null,
   "id": "83adf06e",
   "metadata": {},
   "outputs": [],
   "source": [
    "# LSTM-> Long short term memory\n",
    "# scale the data\n",
    "from sklearn.preprocessing import MinMaxScaler\n",
    "scaler = MinMaxScaler(feature_range=(0, 1))\n",
    "scaled_data = scaler.fit_transform(closing_price[['Close']].dropna())"
   ]
  },
  {
   "cell_type": "code",
   "execution_count": null,
   "id": "9d583c48",
   "metadata": {},
   "outputs": [],
   "source": [
    "len(scaled_data)"
   ]
  },
  {
   "cell_type": "code",
   "execution_count": null,
   "id": "48c7534f",
   "metadata": {},
   "outputs": [],
   "source": [
    "from keras.models import Sequential\n",
    "from keras.layers import Dense, LSTM"
   ]
  },
  {
   "cell_type": "code",
   "execution_count": null,
   "id": "b0767c93",
   "metadata": {},
   "outputs": [],
   "source": [
    "# Prepare data for lstm\n",
    "x_data = []\n",
    "y_data = []\n",
    "base_days =100\n",
    "for i in range(base_days, len(scaled_data)):\n",
    "    x_data.append(scaled_data[i-base_days: i])\n",
    "    y_data.append(scaled_data[i])\n",
    "x_data = np.array(x_data)\n",
    "y_data = np.array(y_data)"
   ]
  },
  {
   "cell_type": "code",
   "execution_count": null,
   "id": "f11d18df",
   "metadata": {},
   "outputs": [],
   "source": [
    "# Split into train and test sets\n",
    "train_size = int(len(x_data) * 0.9)\n",
    "x_train , y_train = x_data[:train_size], y_data[:train_size]\n",
    "x_test, y_test = x_data[train_size:], y_data[train_size:]"
   ]
  },
  {
   "cell_type": "code",
   "execution_count": null,
   "id": "0a98ed19",
   "metadata": {},
   "outputs": [],
   "source": [
    "model = Sequential([\n",
    "    LSTM(128, return_sequences = True, input_shape = (x_train.shape[1], 1)),\n",
    "    LSTM(64, return_sequences = False),\n",
    "    Dense(25),\n",
    "    Dense(1)\n",
    "])\n",
    "\n",
    "model.compile(optimizer = \"adam\", loss = \"mean_squared_error\")\n",
    "model.summary()"
   ]
  },
  {
   "cell_type": "code",
   "execution_count": null,
   "id": "78b40c49",
   "metadata": {},
   "outputs": [],
   "source": [
    "model.fit(x_train, y_train, batch_size = 5, epochs = 10)"
   ]
  },
  {
   "cell_type": "code",
   "execution_count": null,
   "id": "2618ccd9",
   "metadata": {},
   "outputs": [],
   "source": [
    "predictions = model.predict(x_test)\n",
    "inv_predictions = scaler.inverse_transform(predictions)\n",
    "inv_y_test = scaler.inverse_transform(y_test)"
   ]
  },
  {
   "cell_type": "code",
   "execution_count": null,
   "id": "9f781b4e",
   "metadata": {},
   "outputs": [],
   "source": [
    "plotting_data = pd.DataFrame(\n",
    "    {\n",
    "        'Original': inv_y_test.flatten(), \n",
    "        'Prediction': inv_predictions.flatten(),\n",
    "    }, index = closing_price.index[train_size + base_days:]\n",
    ")\n",
    "\n",
    "plt.figure(figsize = (15, 6))\n",
    "plt.plot(plotting_data.index, plotting_data['Original'], label = 'Original', color = 'blue', linewidth =2)\n",
    "plt.plot(plotting_data.index, plotting_data['Prediction'], label = 'Prediction', color = 'red',  linewidth =2)\n",
    "\n",
    "plt.title(\"Prediction vs Actual Close Price\", fontsize = 16)\n",
    "plt.xlabel(\"Years\", fontsize = 14)\n",
    "plt.ylabel('Close Price', fontsize = 14)\n",
    "plt.grid(alpha = 0.3)\n",
    "plt.legend(fontsize = 12)\n",
    "plt.show()"
   ]
  },
  {
   "cell_type": "code",
   "execution_count": null,
   "id": "5a23df7f",
   "metadata": {},
   "outputs": [],
   "source": [
    "# Predict future days\n",
    "last_100  = scaled_data[-100:].reshape(1, -1, 1)\n",
    "future_predictions=[]\n",
    "for _ in range(10):\n",
    "    next_days = model.predict(last_100)\n",
    "    future_predictions.append(scaler.inverse_transform(next_days))\n",
    "    last_100 = np.append(last_100[:, 1:, :], next_days.reshape(1, 1, -1), axis = 1)"
   ]
  },
  {
   "cell_type": "code",
   "execution_count": null,
   "id": "e7d6fc82",
   "metadata": {},
   "outputs": [],
   "source": [
    "future_predictions"
   ]
  },
  {
   "cell_type": "code",
   "execution_count": null,
   "id": "1740d1ef",
   "metadata": {},
   "outputs": [],
   "source": [
    "future_predictions = np.array(future_predictions).flatten()\n",
    "\n",
    "plt.figure(figsize = (15, 6))\n",
    "plt.plot(range(1, 11), future_predictions, marker=\"o\" ,label = 'Prediction Future Prices', color = 'purple', linewidth =2)\n",
    "\n",
    "for i, val in enumerate(future_predictions):\n",
    "    plt.text(i+1,val,  f'{val:.2f}', fontsize = 10, ha = 'center', va = 'bottom', color='black')\n",
    "\n",
    "plt.title(\"Future Close Prices for 10 Days\", fontsize = 16)\n",
    "plt.xlabel(\"Day Ahead\", fontsize = 14)\n",
    "plt.ylabel('Close Price', fontsize = 14)\n",
    "plt.grid(alpha = 0.3)\n",
    "plt.legend(fontsize = 12)\n",
    "plt.show()"
   ]
  },
  {
   "cell_type": "code",
   "execution_count": null,
   "id": "e633200e",
   "metadata": {},
   "outputs": [],
   "source": [
    "model.save(\"model.keras\")"
   ]
  },
  {
   "cell_type": "code",
   "execution_count": null,
   "id": "b7febc99",
   "metadata": {},
   "outputs": [],
   "source": []
  }
 ],
 "metadata": {
  "kernelspec": {
   "display_name": "Python 3",
   "language": "python",
   "name": "python3"
  },
  "language_info": {
   "codemirror_mode": {
    "name": "ipython",
    "version": 3
   },
   "file_extension": ".py",
   "mimetype": "text/x-python",
   "name": "python",
   "nbconvert_exporter": "python",
   "pygments_lexer": "ipython3",
   "version": "3.8.5"
  }
 },
 "nbformat": 4,
 "nbformat_minor": 5
}
